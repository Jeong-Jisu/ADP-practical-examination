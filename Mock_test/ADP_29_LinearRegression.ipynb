{
 "cells": [
  {
   "cell_type": "markdown",
   "id": "b3b6dc11",
   "metadata": {},
   "source": [
    "# 데이터를 전처리 하시오(결측, 이상치 처리)"
   ]
  },
  {
   "cell_type": "code",
   "execution_count": 56,
   "id": "d8536451",
   "metadata": {},
   "outputs": [],
   "source": [
    "import pandas as pd\n",
    "df = pd.read_csv('../data/airquality.csv')\n"
   ]
  },
  {
   "cell_type": "code",
   "execution_count": 57,
   "id": "bde94f52",
   "metadata": {},
   "outputs": [
    {
     "name": "stdout",
     "output_type": "stream",
     "text": [
      "<class 'pandas.core.frame.DataFrame'>\n",
      "RangeIndex: 153 entries, 0 to 152\n",
      "Data columns (total 6 columns):\n",
      " #   Column   Non-Null Count  Dtype  \n",
      "---  ------   --------------  -----  \n",
      " 0   Ozone    116 non-null    float64\n",
      " 1   Solar.R  146 non-null    float64\n",
      " 2   Wind     153 non-null    float64\n",
      " 3   Temp     153 non-null    int64  \n",
      " 4   Month    153 non-null    int64  \n",
      " 5   Day      153 non-null    int64  \n",
      "dtypes: float64(3), int64(3)\n",
      "memory usage: 7.3 KB\n"
     ]
    }
   ],
   "source": [
    "# Ozone,Solar.R 등의 수치형 변수와 범주형 변수 중 순서형 변수인 Month와 Day가 존재함을 알 수 있다.\n",
    "# 단순 날짜 변수인 Day는 삭제한다.\n",
    "df.info()\n",
    "df = df.drop('Day',axis = 1)"
   ]
  },
  {
   "cell_type": "code",
   "execution_count": 58,
   "id": "8eb9e067",
   "metadata": {},
   "outputs": [
    {
     "data": {
      "text/plain": [
       "<BarContainer object of 5 artists>"
      ]
     },
     "execution_count": 58,
     "metadata": {},
     "output_type": "execute_result"
    },
    {
     "data": {
      "image/png": "[encoded data removed]",
      "text/plain": [
       "<Figure size 640x480 with 1 Axes>"
      ]
     },
     "metadata": {},
     "output_type": "display_data"
    }
   ],
   "source": [
    "# 현재 Solar.R, Ozone에 결측치가 있음을 확인할 수 있다. \n",
    "# 데이터 수가 많지 않으므로 결측치를 삭제하기보단 결측을 채우는 방법이 더 타당해 보인다.\n",
    "import matplotlib.pyplot as plt\n",
    "nulls = df.isnull().sum()\n",
    "plt.barh(nulls.index,nulls.values)"
   ]
  },
  {
   "cell_type": "code",
   "execution_count": 59,
   "id": "23f9bbcf",
   "metadata": {},
   "outputs": [],
   "source": [
    "# 보간하는 방법은 수치형 변수인지 범주형 변수인지에 따라 방법이 다르다. 현재 수치형 변수들이 결측값을 가지고 있으므로 \n",
    "# 각 변수의 대표값인 평균값으로 결측을 채우려했으나 이는 이상치에 민감하다는 단점이 있으므로 \n",
    "# 각 변수의 중앙값으로 결측을 대체한다. \n",
    "df['Ozone'].fillna(df['Ozone'].median(),inplace = True)\n",
    "df['Solar.R'].fillna(df['Solar.R'].median(),inplace = True)"
   ]
  },
  {
   "cell_type": "code",
   "execution_count": 60,
   "id": "4a6fc65b",
   "metadata": {},
   "outputs": [
    {
     "data": {
      "text/plain": [
       "<BarContainer object of 5 artists>"
      ]
     },
     "execution_count": 60,
     "metadata": {},
     "output_type": "execute_result"
    },
    {
     "data": {
      "image/png": "[encoded data removed]",
      "text/plain": [
       "<Figure size 640x480 with 1 Axes>"
      ]
     },
     "metadata": {},
     "output_type": "display_data"
    }
   ],
   "source": [
    "# Solar.R, Ozone에 결측치가 사라졌음을 확인할 수 있다\n",
    "import matplotlib.pyplot as plt\n",
    "nulls = df.isnull().sum()\n",
    "plt.barh(nulls.index,nulls.values)"
   ]
  },
  {
   "cell_type": "code",
   "execution_count": 1,
   "id": "c9f41a46",
   "metadata": {
    "scrolled": true
   },
   "outputs": [
    {
     "ename": "NameError",
     "evalue": "name 'plt' is not defined",
     "output_type": "error",
     "traceback": [
      "\u001b[1;31m---------------------------------------------------------------------------\u001b[0m",
      "\u001b[1;31mNameError\u001b[0m                                 Traceback (most recent call last)",
      "\u001b[1;32m~\\AppData\\Local\\Temp\\ipykernel_10704\\1154395304.py\u001b[0m in \u001b[0;36m<module>\u001b[1;34m\u001b[0m\n\u001b[0;32m      1\u001b[0m \u001b[1;31m# 이상치의 경우, Ozone과 wind의 값의 범위나 분포를 봤을 때\u001b[0m\u001b[1;33m\u001b[0m\u001b[1;33m\u001b[0m\u001b[0m\n\u001b[0;32m      2\u001b[0m \u001b[1;31m# 이상치라고 볼 수 없어서 이상치 처리를 하지 않았다.\u001b[0m\u001b[1;33m\u001b[0m\u001b[1;33m\u001b[0m\u001b[0m\n\u001b[1;32m----> 3\u001b[1;33m \u001b[0mfig\u001b[0m\u001b[1;33m,\u001b[0m \u001b[0maxes\u001b[0m \u001b[1;33m=\u001b[0m \u001b[0mplt\u001b[0m\u001b[1;33m.\u001b[0m\u001b[0msubplots\u001b[0m\u001b[1;33m(\u001b[0m\u001b[1;36m2\u001b[0m\u001b[1;33m,\u001b[0m\u001b[1;36m3\u001b[0m\u001b[1;33m)\u001b[0m\u001b[1;33m\u001b[0m\u001b[1;33m\u001b[0m\u001b[0m\n\u001b[0m\u001b[0;32m      4\u001b[0m \u001b[1;31m# 수치형 변수만 sorting한다\u001b[0m\u001b[1;33m\u001b[0m\u001b[1;33m\u001b[0m\u001b[0m\n\u001b[0;32m      5\u001b[0m \u001b[0mfeats\u001b[0m \u001b[1;33m=\u001b[0m \u001b[1;33m[\u001b[0m\u001b[0mcol\u001b[0m \u001b[1;32mfor\u001b[0m \u001b[0mcol\u001b[0m \u001b[1;32min\u001b[0m \u001b[0mdf\u001b[0m\u001b[1;33m.\u001b[0m\u001b[0mcolumns\u001b[0m \u001b[1;32mif\u001b[0m \u001b[0mdf\u001b[0m\u001b[1;33m[\u001b[0m\u001b[0mcol\u001b[0m\u001b[1;33m]\u001b[0m\u001b[1;33m.\u001b[0m\u001b[0mdtypes\u001b[0m \u001b[1;33m!=\u001b[0m \u001b[0mobject\u001b[0m\u001b[1;33m]\u001b[0m\u001b[1;33m\u001b[0m\u001b[1;33m\u001b[0m\u001b[0m\n",
      "\u001b[1;31mNameError\u001b[0m: name 'plt' is not defined"
     ]
    }
   ],
   "source": [
    "# 이상치의 경우, Ozone과 wind의 값의 범위나 분포를 봤을 때 \n",
    "# 이상치라고 볼 수 없어서 이상치 처리를 하지 않았다.\n",
    "fig, axes = plt.subplots(2,3)\n",
    "# 수치형 변수만 sorting한다\n",
    "feats = [col for col in df.columns if df[col].dtypes != object]\n",
    "for ax, col in zip(axes.ravel(), feats):\n",
    "    ax.boxplot(df[[col]])\n",
    "    ax.set_xticklabels([col])\n",
    "plt.show()"
   ]
  },
  {
   "cell_type": "markdown",
   "id": "ec1ebd56",
   "metadata": {},
   "source": [
    "# Temp 변수로 회귀변수를 실시하고, 새로 생서한 이분변수로 분류분석을 수행하시오\n"
   ]
  },
  {
   "cell_type": "code",
   "execution_count": 62,
   "id": "babf3f97",
   "metadata": {},
   "outputs": [
    {
     "data": {
      "text/html": [
       "<div>\n",
       "<style scoped>\n",
       "    .dataframe tbody tr th:only-of-type {\n",
       "        vertical-align: middle;\n",
       "    }\n",
       "\n",
       "    .dataframe tbody tr th {\n",
       "        vertical-align: top;\n",
       "    }\n",
       "\n",
       "    .dataframe thead th {\n",
       "        text-align: right;\n",
       "    }\n",
       "</style>\n",
       "<table border=\"1\" class=\"dataframe\">\n",
       "  <thead>\n",
       "    <tr style=\"text-align: right;\">\n",
       "      <th></th>\n",
       "      <th>feat</th>\n",
       "      <th>coef</th>\n",
       "      <th>abs_coef</th>\n",
       "    </tr>\n",
       "  </thead>\n",
       "  <tbody>\n",
       "    <tr>\n",
       "      <th>3</th>\n",
       "      <td>Month</td>\n",
       "      <td>4.150993</td>\n",
       "      <td>4.150993</td>\n",
       "    </tr>\n",
       "    <tr>\n",
       "      <th>0</th>\n",
       "      <td>Ozone</td>\n",
       "      <td>2.822125</td>\n",
       "      <td>2.822125</td>\n",
       "    </tr>\n",
       "    <tr>\n",
       "      <th>1</th>\n",
       "      <td>Solar.R</td>\n",
       "      <td>2.261969</td>\n",
       "      <td>2.261969</td>\n",
       "    </tr>\n",
       "    <tr>\n",
       "      <th>2</th>\n",
       "      <td>Wind</td>\n",
       "      <td>-1.812580</td>\n",
       "      <td>1.812580</td>\n",
       "    </tr>\n",
       "  </tbody>\n",
       "</table>\n",
       "</div>"
      ],
      "text/plain": [
       "      feat      coef  abs_coef\n",
       "3    Month  4.150993  4.150993\n",
       "0    Ozone  2.822125  2.822125\n",
       "1  Solar.R  2.261969  2.261969\n",
       "2     Wind -1.812580  1.812580"
      ]
     },
     "execution_count": 62,
     "metadata": {},
     "output_type": "execute_result"
    }
   ],
   "source": [
    "# 변수 간의 척도가 다르면 회귀계수가 왜곡될 수 있으므로, feature scaling을 진행한 후 회귀계수를\n",
    "# 분석하기로 한다. 회귀분석 결과, ~~ 변수가 가장 중요한 변수로 판단된다.\n",
    "from sklearn.linear_model import LinearRegression\n",
    "from sklearn.preprocessing import RobustScaler\n",
    "from sklearn.model_selection import train_test_split\n",
    "import numpy as np\n",
    "\n",
    "X = df.drop(['Temp'],axis = 1)\n",
    "# 변수 간의 척도가 다르면 회귀계수가 왜곡될 수 있으므로, feature Scaling을 진행한 후 회귀계수를 분석하기로 한다.\n",
    "sc = RobustScaler()\n",
    "scaled_X = sc.fit_transform(X)\n",
    "\n",
    "y = df['Temp']\n",
    "\n",
    "X_train, X_test, y_train, y_test = train_test_split(scaled_X, y)\n",
    "lr = LinearRegression()\n",
    "lr.fit(X_train, y_train)\n",
    "result = pd.DataFrame({'feat':X.columns, 'coef':lr.coef_})\n",
    "result['abs_coef'] = result['coef'].apply(lambda x: np.abs(x))\n",
    "result.sort_values(by='abs_coef', ascending = False).head()"
   ]
  },
  {
   "cell_type": "code",
   "execution_count": 63,
   "id": "5ac40258",
   "metadata": {},
   "outputs": [],
   "source": [
    "# 회귀 분석 결과 , Temp변수(온도)는 회귀계수의 절대값이 큰 Month(월), Ozone, Solar변수가 가장 중요한 변수로 판단된다."
   ]
  },
  {
   "cell_type": "code",
   "execution_count": 64,
   "id": "2ca3e0e9",
   "metadata": {},
   "outputs": [
    {
     "name": "stdout",
     "output_type": "stream",
     "text": [
      "score: 0.5147792717462111\n",
      "mse: 61.324116102712594\n",
      "rmse: 7.830971593787874\n"
     ]
    }
   ],
   "source": [
    "y_pred = lr.predict(X_test)\n",
    "resid = y_test - y_pred\n",
    "\n",
    "print('score:',lr.score(X_test,y_test))\n",
    "print('mse:', (resid**2).sum()/len(y_test))\n",
    "print('rmse:', np.sqrt((resid**2).sum()/len(y_test)))\n"
   ]
  },
  {
   "cell_type": "code",
   "execution_count": 65,
   "id": "c82816b6",
   "metadata": {},
   "outputs": [
    {
     "data": {
      "text/html": [
       "<div>\n",
       "<style scoped>\n",
       "    .dataframe tbody tr th:only-of-type {\n",
       "        vertical-align: middle;\n",
       "    }\n",
       "\n",
       "    .dataframe tbody tr th {\n",
       "        vertical-align: top;\n",
       "    }\n",
       "\n",
       "    .dataframe thead th {\n",
       "        text-align: right;\n",
       "    }\n",
       "</style>\n",
       "<table border=\"1\" class=\"dataframe\">\n",
       "  <thead>\n",
       "    <tr style=\"text-align: right;\">\n",
       "      <th></th>\n",
       "      <th>Ozone</th>\n",
       "      <th>Solar.R</th>\n",
       "      <th>Wind</th>\n",
       "      <th>Temp</th>\n",
       "      <th>Month</th>\n",
       "      <th>New_temp</th>\n",
       "    </tr>\n",
       "  </thead>\n",
       "  <tbody>\n",
       "    <tr>\n",
       "      <th>0</th>\n",
       "      <td>41.0</td>\n",
       "      <td>190.0</td>\n",
       "      <td>7.4</td>\n",
       "      <td>67</td>\n",
       "      <td>5</td>\n",
       "      <td>1.0</td>\n",
       "    </tr>\n",
       "    <tr>\n",
       "      <th>1</th>\n",
       "      <td>36.0</td>\n",
       "      <td>118.0</td>\n",
       "      <td>8.0</td>\n",
       "      <td>72</td>\n",
       "      <td>5</td>\n",
       "      <td>2.0</td>\n",
       "    </tr>\n",
       "    <tr>\n",
       "      <th>2</th>\n",
       "      <td>12.0</td>\n",
       "      <td>149.0</td>\n",
       "      <td>12.6</td>\n",
       "      <td>74</td>\n",
       "      <td>5</td>\n",
       "      <td>2.0</td>\n",
       "    </tr>\n",
       "    <tr>\n",
       "      <th>3</th>\n",
       "      <td>18.0</td>\n",
       "      <td>313.0</td>\n",
       "      <td>11.5</td>\n",
       "      <td>62</td>\n",
       "      <td>5</td>\n",
       "      <td>1.0</td>\n",
       "    </tr>\n",
       "    <tr>\n",
       "      <th>4</th>\n",
       "      <td>31.5</td>\n",
       "      <td>205.0</td>\n",
       "      <td>14.3</td>\n",
       "      <td>56</td>\n",
       "      <td>5</td>\n",
       "      <td>0.0</td>\n",
       "    </tr>\n",
       "    <tr>\n",
       "      <th>5</th>\n",
       "      <td>28.0</td>\n",
       "      <td>205.0</td>\n",
       "      <td>14.9</td>\n",
       "      <td>66</td>\n",
       "      <td>5</td>\n",
       "      <td>1.0</td>\n",
       "    </tr>\n",
       "    <tr>\n",
       "      <th>6</th>\n",
       "      <td>23.0</td>\n",
       "      <td>299.0</td>\n",
       "      <td>8.6</td>\n",
       "      <td>65</td>\n",
       "      <td>5</td>\n",
       "      <td>1.0</td>\n",
       "    </tr>\n",
       "    <tr>\n",
       "      <th>7</th>\n",
       "      <td>19.0</td>\n",
       "      <td>99.0</td>\n",
       "      <td>13.8</td>\n",
       "      <td>59</td>\n",
       "      <td>5</td>\n",
       "      <td>0.0</td>\n",
       "    </tr>\n",
       "    <tr>\n",
       "      <th>8</th>\n",
       "      <td>8.0</td>\n",
       "      <td>19.0</td>\n",
       "      <td>20.1</td>\n",
       "      <td>61</td>\n",
       "      <td>5</td>\n",
       "      <td>1.0</td>\n",
       "    </tr>\n",
       "    <tr>\n",
       "      <th>9</th>\n",
       "      <td>31.5</td>\n",
       "      <td>194.0</td>\n",
       "      <td>8.6</td>\n",
       "      <td>69</td>\n",
       "      <td>5</td>\n",
       "      <td>1.0</td>\n",
       "    </tr>\n",
       "  </tbody>\n",
       "</table>\n",
       "</div>"
      ],
      "text/plain": [
       "   Ozone  Solar.R  Wind  Temp  Month  New_temp\n",
       "0   41.0    190.0   7.4    67      5       1.0\n",
       "1   36.0    118.0   8.0    72      5       2.0\n",
       "2   12.0    149.0  12.6    74      5       2.0\n",
       "3   18.0    313.0  11.5    62      5       1.0\n",
       "4   31.5    205.0  14.3    56      5       0.0\n",
       "5   28.0    205.0  14.9    66      5       1.0\n",
       "6   23.0    299.0   8.6    65      5       1.0\n",
       "7   19.0     99.0  13.8    59      5       0.0\n",
       "8    8.0     19.0  20.1    61      5       1.0\n",
       "9   31.5    194.0   8.6    69      5       1.0"
      ]
     },
     "execution_count": 65,
     "metadata": {},
     "output_type": "execute_result"
    }
   ],
   "source": [
    "# 분류분석 시행하기 위해 temp의 범주를 정한다. 최소값은 56, 최대값은 97이므로 총\n",
    "# 50~60-> 1, 60~70 -> 2, 70~80 -> 3, 80~90 -> 4, 90~100 -> 5로 범주화 시킨다.\n",
    "df.loc[(df['Temp'] > 50) & (df['Temp'] <= 60),'New_temp'] = 0\n",
    "df.loc[(df['Temp'] > 60) & (df['Temp'] <= 70),'New_temp'] = 1\n",
    "df.loc[(df['Temp'] > 70) & (df['Temp'] <= 80),'New_temp'] = 2\n",
    "df.loc[(df['Temp'] > 80) & (df['Temp'] <= 90),'New_temp'] = 3\n",
    "df.loc[(df['Temp'] > 90) & (df['Temp'] <= 100),'New_temp'] = 4\n",
    "\n",
    "df.head(10)"
   ]
  },
  {
   "cell_type": "code",
   "execution_count": 66,
   "id": "91eb1edf",
   "metadata": {},
   "outputs": [
    {
     "ename": "ValueError",
     "evalue": "Classification metrics can't handle a mix of multiclass and unknown targets",
     "output_type": "error",
     "traceback": [
      "\u001b[1;31m---------------------------------------------------------------------------\u001b[0m",
      "\u001b[1;31mValueError\u001b[0m                                Traceback (most recent call last)",
      "\u001b[1;32m~\\AppData\\Local\\Temp\\ipykernel_14264\\4149009092.py\u001b[0m in \u001b[0;36m<module>\u001b[1;34m\u001b[0m\n\u001b[0;32m     15\u001b[0m \u001b[1;32mfrom\u001b[0m \u001b[0msklearn\u001b[0m\u001b[1;33m.\u001b[0m\u001b[0mmetrics\u001b[0m \u001b[1;32mimport\u001b[0m \u001b[0maccuracy_score\u001b[0m\u001b[1;33m\u001b[0m\u001b[1;33m\u001b[0m\u001b[0m\n\u001b[0;32m     16\u001b[0m \u001b[0my_pred\u001b[0m \u001b[1;33m=\u001b[0m \u001b[0mmodel\u001b[0m\u001b[1;33m.\u001b[0m\u001b[0mpredict\u001b[0m\u001b[1;33m(\u001b[0m\u001b[0mX_test1\u001b[0m\u001b[1;33m)\u001b[0m \u001b[1;31m#예측 라벨\u001b[0m\u001b[1;33m\u001b[0m\u001b[1;33m\u001b[0m\u001b[0m\n\u001b[1;32m---> 17\u001b[1;33m \u001b[0maccuracy_score\u001b[0m\u001b[1;33m(\u001b[0m\u001b[0my_pred\u001b[0m\u001b[1;33m,\u001b[0m \u001b[0my_test1\u001b[0m\u001b[1;33m)\u001b[0m\u001b[1;33m\u001b[0m\u001b[1;33m\u001b[0m\u001b[0m\n\u001b[0m",
      "\u001b[1;32m~\\anaconda3\\lib\\site-packages\\sklearn\\metrics\\_classification.py\u001b[0m in \u001b[0;36maccuracy_score\u001b[1;34m(y_true, y_pred, normalize, sample_weight)\u001b[0m\n\u001b[0;32m    209\u001b[0m \u001b[1;33m\u001b[0m\u001b[0m\n\u001b[0;32m    210\u001b[0m     \u001b[1;31m# Compute accuracy for each possible representation\u001b[0m\u001b[1;33m\u001b[0m\u001b[1;33m\u001b[0m\u001b[0m\n\u001b[1;32m--> 211\u001b[1;33m     \u001b[0my_type\u001b[0m\u001b[1;33m,\u001b[0m \u001b[0my_true\u001b[0m\u001b[1;33m,\u001b[0m \u001b[0my_pred\u001b[0m \u001b[1;33m=\u001b[0m \u001b[0m_check_targets\u001b[0m\u001b[1;33m(\u001b[0m\u001b[0my_true\u001b[0m\u001b[1;33m,\u001b[0m \u001b[0my_pred\u001b[0m\u001b[1;33m)\u001b[0m\u001b[1;33m\u001b[0m\u001b[1;33m\u001b[0m\u001b[0m\n\u001b[0m\u001b[0;32m    212\u001b[0m     \u001b[0mcheck_consistent_length\u001b[0m\u001b[1;33m(\u001b[0m\u001b[0my_true\u001b[0m\u001b[1;33m,\u001b[0m \u001b[0my_pred\u001b[0m\u001b[1;33m,\u001b[0m \u001b[0msample_weight\u001b[0m\u001b[1;33m)\u001b[0m\u001b[1;33m\u001b[0m\u001b[1;33m\u001b[0m\u001b[0m\n\u001b[0;32m    213\u001b[0m     \u001b[1;32mif\u001b[0m \u001b[0my_type\u001b[0m\u001b[1;33m.\u001b[0m\u001b[0mstartswith\u001b[0m\u001b[1;33m(\u001b[0m\u001b[1;34m\"multilabel\"\u001b[0m\u001b[1;33m)\u001b[0m\u001b[1;33m:\u001b[0m\u001b[1;33m\u001b[0m\u001b[1;33m\u001b[0m\u001b[0m\n",
      "\u001b[1;32m~\\anaconda3\\lib\\site-packages\\sklearn\\metrics\\_classification.py\u001b[0m in \u001b[0;36m_check_targets\u001b[1;34m(y_true, y_pred)\u001b[0m\n\u001b[0;32m     91\u001b[0m \u001b[1;33m\u001b[0m\u001b[0m\n\u001b[0;32m     92\u001b[0m     \u001b[1;32mif\u001b[0m \u001b[0mlen\u001b[0m\u001b[1;33m(\u001b[0m\u001b[0my_type\u001b[0m\u001b[1;33m)\u001b[0m \u001b[1;33m>\u001b[0m \u001b[1;36m1\u001b[0m\u001b[1;33m:\u001b[0m\u001b[1;33m\u001b[0m\u001b[1;33m\u001b[0m\u001b[0m\n\u001b[1;32m---> 93\u001b[1;33m         raise ValueError(\n\u001b[0m\u001b[0;32m     94\u001b[0m             \"Classification metrics can't handle a mix of {0} and {1} targets\".format(\n\u001b[0;32m     95\u001b[0m                 \u001b[0mtype_true\u001b[0m\u001b[1;33m,\u001b[0m \u001b[0mtype_pred\u001b[0m\u001b[1;33m\u001b[0m\u001b[1;33m\u001b[0m\u001b[0m\n",
      "\u001b[1;31mValueError\u001b[0m: Classification metrics can't handle a mix of multiclass and unknown targets"
     ]
    }
   ],
   "source": [
    "#분류 분석을 하기위해 앙상블 모델인 xgboost 분류모형을 사용한다. \n",
    "# 이미 회귀분석 시 Scaled_X를 만들었으므로 \n",
    "df['New_temp'] = df['New_temp'].astype(int).astype('object')\n",
    "y = df['New_temp']\n",
    "\n",
    "X_train1, X_test1, y_train1, y_test1 = train_test_split(scaled_X, y,stratify = y ,test_size = 0.3, random_state = 2023)\n",
    "\n",
    "from xgboost import XGBClassifier\n",
    "\n",
    "# 모델 선언 예시\n",
    "model = XGBClassifier(random_state = 2023)\n",
    "model.fit(X_train1, y_train1)\n",
    "\n",
    "# 분류기 성능 평가\n",
    "from sklearn.metrics import accuracy_score\n",
    "y_pred = model.predict(X_test1) #예측 라벨 \n",
    "accuracy_score(y_pred, y_test1)"
   ]
  },
  {
   "cell_type": "code",
   "execution_count": 69,
   "id": "e0c769d4",
   "metadata": {},
   "outputs": [
    {
     "data": {
      "text/plain": [
       "98     3\n",
       "31     2\n",
       "60     3\n",
       "101    4\n",
       "112    2\n",
       "7      0\n",
       "120    4\n",
       "22     1\n",
       "143    1\n",
       "126    4\n",
       "48     1\n",
       "94     3\n",
       "82     3\n",
       "83     3\n",
       "75     2\n",
       "114    2\n",
       "27     1\n",
       "36     2\n",
       "51     2\n",
       "104    3\n",
       "9      1\n",
       "67     3\n",
       "142    3\n",
       "144    2\n",
       "147    1\n",
       "37     3\n",
       "26     0\n",
       "150    2\n",
       "103    3\n",
       "32     2\n",
       "129    2\n",
       "66     3\n",
       "135    2\n",
       "0      1\n",
       "88     3\n",
       "12     1\n",
       "128    3\n",
       "149    2\n",
       "79     3\n",
       "2      2\n",
       "131    2\n",
       "43     3\n",
       "72     2\n",
       "123    4\n",
       "58     2\n",
       "84     3\n",
       "Name: New_temp, dtype: object"
      ]
     },
     "execution_count": 69,
     "metadata": {},
     "output_type": "execute_result"
    }
   ],
   "source": [
    "y_test1"
   ]
  },
  {
   "cell_type": "code",
   "execution_count": null,
   "id": "49206573",
   "metadata": {},
   "outputs": [],
   "source": []
  }
 ],
 "metadata": {
  "kernelspec": {
   "display_name": "Python 3 (ipykernel)",
   "language": "python",
   "name": "python3"
  },
  "language_info": {
   "codemirror_mode": {
    "name": "ipython",
    "version": 3
   },
   "file_extension": ".py",
   "mimetype": "text/x-python",
   "name": "python",
   "nbconvert_exporter": "python",
   "pygments_lexer": "ipython3",
   "version": "3.9.13"
  }
 },
 "nbformat": 4,
 "nbformat_minor": 5
}
