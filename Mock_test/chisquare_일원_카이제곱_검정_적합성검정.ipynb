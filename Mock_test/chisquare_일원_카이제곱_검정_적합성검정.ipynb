{
 "cells": [
  {
   "cell_type": "code",
   "execution_count": 4,
   "id": "ceb3d8f3",
   "metadata": {},
   "outputs": [
    {
     "name": "stdout",
     "output_type": "stream",
     "text": [
      "     item1  item2  item3\n",
      "Obs    400    200    300\n",
      "Exp    300    300    300\n"
     ]
    }
   ],
   "source": [
    "from scipy.stats import chisquare # 교차분석\n",
    "import pandas as pd\n",
    "freq1 = [400,200,300]\n",
    "freq2 = [300,300,300]\n",
    "table = pd.DataFrame([freq1,freq2], columns = ['item1','item2','item3'],\n",
    "                 index = ['Obs','Exp'])\n",
    "print(table)"
   ]
  },
  {
   "cell_type": "code",
   "execution_count": 6,
   "id": "11655f93",
   "metadata": {},
   "outputs": [
    {
     "data": {
      "text/plain": [
       "Power_divergenceResult(statistic=66.66666666666667, pvalue=3.3382377953650016e-15)"
      ]
     },
     "execution_count": 6,
     "metadata": {},
     "output_type": "execute_result"
    }
   ],
   "source": [
    "result = chisquare(freq1, f_exp = freq2)\n",
    "result"
   ]
  },
  {
   "cell_type": "code",
   "execution_count": 7,
   "id": "be4f0d93",
   "metadata": {},
   "outputs": [],
   "source": [
    "# p-value가 유의수준 0.05보다 작으므로 실제 분포와 기대 분포는 차이가 있음을 알 수 있다. "
   ]
  },
  {
   "cell_type": "code",
   "execution_count": null,
   "id": "69c9c7ec",
   "metadata": {},
   "outputs": [],
   "source": []
  }
 ],
 "metadata": {
  "kernelspec": {
   "display_name": "Python 3 (ipykernel)",
   "language": "python",
   "name": "python3"
  },
  "language_info": {
   "codemirror_mode": {
    "name": "ipython",
    "version": 3
   },
   "file_extension": ".py",
   "mimetype": "text/x-python",
   "name": "python",
   "nbconvert_exporter": "python",
   "pygments_lexer": "ipython3",
   "version": "3.9.13"
  }
 },
 "nbformat": 4,
 "nbformat_minor": 5
}
